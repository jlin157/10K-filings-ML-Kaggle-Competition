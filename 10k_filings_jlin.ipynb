{
 "cells": [
  {
   "cell_type": "code",
   "execution_count": 1,
   "metadata": {},
   "outputs": [
    {
     "name": "stderr",
     "output_type": "stream",
     "text": [
      "[nltk_data] Downloading package stopwords to\n",
      "[nltk_data]     C:\\Users\\Lin\\AppData\\Roaming\\nltk_data...\n",
      "[nltk_data]   Package stopwords is already up-to-date!\n"
     ]
    }
   ],
   "source": [
    "import pandas as pd\n",
    "import numpy as np\n",
    "import re\n",
    "from sklearn.preprocessing import LabelEncoder\n",
    "from sklearn.linear_model import LogisticRegression\n",
    "from sklearn.metrics import accuracy_score\n",
    "from bs4 import BeautifulSoup\n",
    "import nltk\n",
    "from nltk.corpus import stopwords\n",
    "import gensim.downloader\n",
    "from sklearn.model_selection import GridSearchCV, cross_validate\n",
    "from sklearn.preprocessing import StandardScaler\n",
    "from sklearn.pipeline import Pipeline\n",
    "from sklearn.metrics import f1_score\n",
    "\n",
    "nltk.download('stopwords')\n",
    "stopwords_set = set(stopwords.words('english'))"
   ]
  },
  {
   "cell_type": "markdown",
   "metadata": {},
   "source": [
    "# Logistic Regression Classfier"
   ]
  },
  {
   "cell_type": "code",
   "execution_count": 2,
   "metadata": {},
   "outputs": [],
   "source": [
    "train=pd.read_csv('10k_filings_train.csv')\n",
    "test=pd.read_csv('10k_filings_test_wo_labels.csv')"
   ]
  },
  {
   "cell_type": "markdown",
   "metadata": {},
   "source": [
    "Clean body and convert 'body' string to float"
   ]
  },
  {
   "cell_type": "code",
   "execution_count": 3,
   "metadata": {},
   "outputs": [],
   "source": [
    "WORD_RE = re.compile(r\"\\b[a-z]\\w+\\b\")\n",
    "def clean(text):\n",
    "  soup = BeautifulSoup(text)\n",
    "  text = soup.get_text(\" \")\n",
    "  text = text.lower()\n",
    "  text = WORD_RE.findall(text)\n",
    "  cleaned_text = [w for w in text if w not in stopwords_set]\n",
    "  return \" \".join(cleaned_text)\n",
    "\n",
    "train[\"cleaned_body\"] = train[\"body\"].map(clean)\n",
    "test[\"cleaned_body\"] = test[\"body\"].map(clean)"
   ]
  },
  {
   "cell_type": "code",
   "execution_count": 4,
   "metadata": {},
   "outputs": [],
   "source": [
    "train_vectors = gensim.downloader.load(\"glove-wiki-gigaword-300\")\n",
    "def average_embeddings(document_text):\n",
    "  embeddings = []\n",
    "  for word in document_text.split():\n",
    "    if word in train_vectors:\n",
    "      embeddings.append(train_vectors[word])\n",
    "  if len(embeddings) == 0:\n",
    "    return np.zeros((1, 300))\n",
    "  embeddings = np.array(embeddings)\n",
    "  return np.average(embeddings, axis=0).reshape(1, -1)\n",
    "\n",
    "train_embeddings = []\n",
    "for i, row in train.iterrows():\n",
    "  doc_embed = average_embeddings(row.cleaned_body)\n",
    "  train_embeddings.append(doc_embed)\n",
    "\n",
    "train_embeddings = np.array(train_embeddings).squeeze()"
   ]
  },
  {
   "cell_type": "markdown",
   "metadata": {},
   "source": [
    "Build the model"
   ]
  },
  {
   "cell_type": "code",
   "execution_count": 5,
   "metadata": {},
   "outputs": [],
   "source": [
    "label_encoder = LabelEncoder()\n",
    "train[\"target\"] = label_encoder.fit_transform(train.label.values)"
   ]
  },
  {
   "cell_type": "code",
   "execution_count": 12,
   "metadata": {},
   "outputs": [
    {
     "name": "stdout",
     "output_type": "stream",
     "text": [
      "1.0\t0.757 (0.0163)\n",
      "0.1\t0.797 (0.019)\n",
      "10\t0.718 (0.0192)\n",
      "5\t0.724 (0.0208)\n",
      "2\t0.744 (0.0179)\n",
      "0.0001\t0.67 (0.0131)\n",
      "100\t0.7 (0.0166)\n"
     ]
    }
   ],
   "source": [
    "parameters = {\"clf__C\": [1.0, 0.1, 10, 5, 2, 0.0001, 100]}\n",
    "pipe = Pipeline([('scaler', StandardScaler()), ('clf', LogisticRegression(max_iter=100000))])\n",
    "clf = GridSearchCV(pipe, parameters)\n",
    "clf.fit(train_embeddings, train.target)\n",
    "results = clf.cv_results_\n",
    "\n",
    "all_c_scores = [value for key, value in results.items() if \"split\" in key]\n",
    "avg_c_scores = np.average(all_c_scores, axis=0)\n",
    "std_c_scores = np.std(all_c_scores, axis=0)\n",
    "\n",
    "for param, avg, std in zip(parameters[\"clf__C\"], avg_c_scores, std_c_scores):\n",
    "    print(f\"{param}\\t{avg:.3} ({std:.3})\")"
   ]
  },
  {
   "cell_type": "code",
   "execution_count": 13,
   "metadata": {},
   "outputs": [],
   "source": [
    "clf = GridSearchCV(pipe, {\"clf__C\": [0.19]})\n",
    "clf.fit(train_embeddings, train.target)\n",
    "predict_train_LR=clf.predict(train_embeddings)\n",
    "train[\"predict_labels_LR\"]=label_encoder.inverse_transform(predict_train_LR)\n",
    "accuracy_score=(train.label,train.predict_labels_LR)"
   ]
  },
  {
   "cell_type": "code",
   "execution_count": 9,
   "metadata": {},
   "outputs": [
    {
     "data": {
      "text/plain": [
       "{'fit_time': array([0.53507686, 0.44483018, 0.49220967, 0.40892529, 0.40940762]),\n",
       " 'score_time': array([0.0009973 , 0.00099707, 0.00099659, 0.00099635, 0.00102592]),\n",
       " 'test_score': array([0.76632137, 0.77551107, 0.78632119, 0.74602049, 0.76366462]),\n",
       " 'train_score': array([0.79088025, 0.78899021, 0.78937036, 0.79646189, 0.79278473])}"
      ]
     },
     "execution_count": 9,
     "metadata": {},
     "output_type": "execute_result"
    }
   ],
   "source": [
    "#clf = LogisticRegression(max_iter=100000)\n",
    "#cross_validate(clf,X=train_embeddings,y=train.target,scoring='f1_weighted',return_train_score=True)"
   ]
  },
  {
   "cell_type": "markdown",
   "metadata": {},
   "source": [
    "Predict the test data"
   ]
  },
  {
   "cell_type": "code",
   "execution_count": 14,
   "metadata": {},
   "outputs": [],
   "source": [
    "test_embeddings = []\n",
    "for i, row in test.iterrows():\n",
    "  doc_embed = average_embeddings(row.cleaned_body)\n",
    "  test_embeddings.append(doc_embed)\n",
    "test_embeddings = np.array(test_embeddings).squeeze()"
   ]
  },
  {
   "cell_type": "code",
   "execution_count": 15,
   "metadata": {},
   "outputs": [],
   "source": [
    "predict_test_LR = clf.predict(test_embeddings)\n",
    "test[\"prediction_labels\"] = label_encoder.inverse_transform(predict_test_LR)"
   ]
  },
  {
   "cell_type": "code",
   "execution_count": 16,
   "metadata": {},
   "outputs": [
    {
     "data": {
      "text/html": [
       "<div>\n",
       "<style scoped>\n",
       "    .dataframe tbody tr th:only-of-type {\n",
       "        vertical-align: middle;\n",
       "    }\n",
       "\n",
       "    .dataframe tbody tr th {\n",
       "        vertical-align: top;\n",
       "    }\n",
       "\n",
       "    .dataframe thead th {\n",
       "        text-align: right;\n",
       "    }\n",
       "</style>\n",
       "<table border=\"1\" class=\"dataframe\">\n",
       "  <thead>\n",
       "    <tr style=\"text-align: right;\">\n",
       "      <th></th>\n",
       "      <th>id</th>\n",
       "      <th>body</th>\n",
       "      <th>cleaned_body</th>\n",
       "      <th>prediction_labels</th>\n",
       "    </tr>\n",
       "  </thead>\n",
       "  <tbody>\n",
       "    <tr>\n",
       "      <th>0</th>\n",
       "      <td>935036-2017-1</td>\n",
       "      <td>\\n BUSINESS    General  \\n ACI Worldwide, Inc...</td>\n",
       "      <td>business general aci worldwide inc aci aci wor...</td>\n",
       "      <td>Services</td>\n",
       "    </tr>\n",
       "    <tr>\n",
       "      <th>1</th>\n",
       "      <td>1435049-2017-1</td>\n",
       "      <td>Business. \\n Overview \\n References herein to...</td>\n",
       "      <td>business overview references herein us company...</td>\n",
       "      <td>Manufacturing</td>\n",
       "    </tr>\n",
       "    <tr>\n",
       "      <th>2</th>\n",
       "      <td>1158449-2017-1</td>\n",
       "      <td>Business. Unless the context otherwise r...</td>\n",
       "      <td>business unless context otherwise requires adv...</td>\n",
       "      <td>Retail Trade</td>\n",
       "    </tr>\n",
       "    <tr>\n",
       "      <th>3</th>\n",
       "      <td>849706-2017-1</td>\n",
       "      <td>Business. \\n \\n   \\n \\n \\nSummary \\n \\n   \\n ...</td>\n",
       "      <td>business summary advanced environmental recycl...</td>\n",
       "      <td>Manufacturing</td>\n",
       "    </tr>\n",
       "    <tr>\n",
       "      <th>4</th>\n",
       "      <td>105608-2017-1</td>\n",
       "      <td>BUSINESS \\n   \\n OVERVIEW \\n   \\n AG&amp;E Holdin...</td>\n",
       "      <td>business overview ag holdings inc wholly owned...</td>\n",
       "      <td>Manufacturing</td>\n",
       "    </tr>\n",
       "    <tr>\n",
       "      <th>...</th>\n",
       "      <td>...</td>\n",
       "      <td>...</td>\n",
       "      <td>...</td>\n",
       "      <td>...</td>\n",
       "    </tr>\n",
       "    <tr>\n",
       "      <th>756</th>\n",
       "      <td>1675634-2017-4</td>\n",
       "      <td>Description of Business  \\n   \\n Company Info...</td>\n",
       "      <td>description business company information incor...</td>\n",
       "      <td>Services</td>\n",
       "    </tr>\n",
       "    <tr>\n",
       "      <th>757</th>\n",
       "      <td>1614556-2017-4</td>\n",
       "      <td>BUSINESS       Corporate History       Star...</td>\n",
       "      <td>business corporate history star alliance inter...</td>\n",
       "      <td>Services</td>\n",
       "    </tr>\n",
       "    <tr>\n",
       "      <th>758</th>\n",
       "      <td>1557798-2017-4</td>\n",
       "      <td>Business \\n   \\n Corporate Overview \\n   \\n W...</td>\n",
       "      <td>business corporate overview currently shell co...</td>\n",
       "      <td>Services</td>\n",
       "    </tr>\n",
       "    <tr>\n",
       "      <th>759</th>\n",
       "      <td>1564709-2017-4</td>\n",
       "      <td>Business \\n The Company is a holding company ...</td>\n",
       "      <td>business company holding company incorporated ...</td>\n",
       "      <td>Manufacturing</td>\n",
       "    </tr>\n",
       "    <tr>\n",
       "      <th>760</th>\n",
       "      <td>1312073-2017-4</td>\n",
       "      <td>BUSINESS Our Company Verifone is a global lea...</td>\n",
       "      <td>business company verifone global leader paymen...</td>\n",
       "      <td>Manufacturing</td>\n",
       "    </tr>\n",
       "  </tbody>\n",
       "</table>\n",
       "<p>761 rows × 4 columns</p>\n",
       "</div>"
      ],
      "text/plain": [
       "                 id                                               body  \\\n",
       "0     935036-2017-1   \\n BUSINESS    General  \\n ACI Worldwide, Inc...   \n",
       "1    1435049-2017-1   Business. \\n Overview \\n References herein to...   \n",
       "2    1158449-2017-1        Business. Unless the context otherwise r...   \n",
       "3     849706-2017-1   Business. \\n \\n   \\n \\n \\nSummary \\n \\n   \\n ...   \n",
       "4     105608-2017-1   BUSINESS \\n   \\n OVERVIEW \\n   \\n AG&E Holdin...   \n",
       "..              ...                                                ...   \n",
       "756  1675634-2017-4   Description of Business  \\n   \\n Company Info...   \n",
       "757  1614556-2017-4     BUSINESS       Corporate History       Star...   \n",
       "758  1557798-2017-4   Business \\n   \\n Corporate Overview \\n   \\n W...   \n",
       "759  1564709-2017-4   Business \\n The Company is a holding company ...   \n",
       "760  1312073-2017-4   BUSINESS Our Company Verifone is a global lea...   \n",
       "\n",
       "                                          cleaned_body prediction_labels  \n",
       "0    business general aci worldwide inc aci aci wor...          Services  \n",
       "1    business overview references herein us company...     Manufacturing  \n",
       "2    business unless context otherwise requires adv...      Retail Trade  \n",
       "3    business summary advanced environmental recycl...     Manufacturing  \n",
       "4    business overview ag holdings inc wholly owned...     Manufacturing  \n",
       "..                                                 ...               ...  \n",
       "756  description business company information incor...          Services  \n",
       "757  business corporate history star alliance inter...          Services  \n",
       "758  business corporate overview currently shell co...          Services  \n",
       "759  business company holding company incorporated ...     Manufacturing  \n",
       "760  business company verifone global leader paymen...     Manufacturing  \n",
       "\n",
       "[761 rows x 4 columns]"
      ]
     },
     "execution_count": 16,
     "metadata": {},
     "output_type": "execute_result"
    }
   ],
   "source": [
    "test"
   ]
  },
  {
   "cell_type": "markdown",
   "metadata": {},
   "source": [
    "Load CSV"
   ]
  },
  {
   "cell_type": "code",
   "execution_count": 17,
   "metadata": {},
   "outputs": [],
   "source": [
    "test[[\"id\", \"prediction_labels\"]].to_csv(\"LogRegCV_Assignment3_jlin157.csv\", index=False)"
   ]
  },
  {
   "cell_type": "markdown",
   "metadata": {},
   "source": [
    "# Naive Bayes Classifier"
   ]
  },
  {
   "cell_type": "code",
   "execution_count": 25,
   "metadata": {},
   "outputs": [
    {
     "data": {
      "text/plain": [
       "GaussianNB()"
      ]
     },
     "execution_count": 25,
     "metadata": {},
     "output_type": "execute_result"
    }
   ],
   "source": [
    "from sklearn.naive_bayes import GaussianNB\n",
    "\n",
    "gnb = GaussianNB()\n",
    "gnb.fit(train_embeddings, train.target)"
   ]
  },
  {
   "cell_type": "code",
   "execution_count": 24,
   "metadata": {},
   "outputs": [
    {
     "data": {
      "text/plain": [
       "{'fit_time': array([0.01595807, 0.01396251, 0.01296473, 0.01296496, 0.01296449]),\n",
       " 'score_time': array([0.01595616, 0.01396275, 0.01396346, 0.01396298, 0.01396346]),\n",
       " 'test_score': array([0.66390769, 0.68200141, 0.68383934, 0.66109405, 0.67973991]),\n",
       " 'train_score': array([0.68679329, 0.69093326, 0.68519437, 0.69493132, 0.68091626])}"
      ]
     },
     "execution_count": 24,
     "metadata": {},
     "output_type": "execute_result"
    }
   ],
   "source": [
    "#cross_validate(gnb,X=train_embeddings,y=train.target,scoring='f1_weighted',return_train_score=True)"
   ]
  },
  {
   "cell_type": "code",
   "execution_count": 26,
   "metadata": {},
   "outputs": [],
   "source": [
    "predict_train_NB = gnb.predict(train_embeddings)\n",
    "train[\"predict_labels_NB\"] = label_encoder.inverse_transform(predict_train_NB)"
   ]
  },
  {
   "cell_type": "code",
   "execution_count": 27,
   "metadata": {},
   "outputs": [
    {
     "ename": "TypeError",
     "evalue": "'tuple' object is not callable",
     "output_type": "error",
     "traceback": [
      "\u001b[1;31m---------------------------------------------------------------------------\u001b[0m",
      "\u001b[1;31mTypeError\u001b[0m                                 Traceback (most recent call last)",
      "\u001b[1;32m<ipython-input-27-ff52bff9228e>\u001b[0m in \u001b[0;36m<module>\u001b[1;34m\u001b[0m\n\u001b[1;32m----> 1\u001b[1;33m \u001b[0maccuracy_score\u001b[0m\u001b[1;33m(\u001b[0m\u001b[0mtrain\u001b[0m\u001b[1;33m.\u001b[0m\u001b[0mlabel\u001b[0m\u001b[1;33m,\u001b[0m\u001b[0mtrain\u001b[0m\u001b[1;33m.\u001b[0m\u001b[0mpredict_labels_NB\u001b[0m\u001b[1;33m)\u001b[0m\u001b[1;33m\u001b[0m\u001b[1;33m\u001b[0m\u001b[0m\n\u001b[0m",
      "\u001b[1;31mTypeError\u001b[0m: 'tuple' object is not callable"
     ]
    }
   ],
   "source": [
    "accuracy_score(train.label,train.predict_labels_NB)"
   ]
  },
  {
   "cell_type": "markdown",
   "metadata": {},
   "source": [
    "Predict the test data"
   ]
  },
  {
   "cell_type": "code",
   "execution_count": 28,
   "metadata": {},
   "outputs": [
    {
     "data": {
      "text/html": [
       "<div>\n",
       "<style scoped>\n",
       "    .dataframe tbody tr th:only-of-type {\n",
       "        vertical-align: middle;\n",
       "    }\n",
       "\n",
       "    .dataframe tbody tr th {\n",
       "        vertical-align: top;\n",
       "    }\n",
       "\n",
       "    .dataframe thead th {\n",
       "        text-align: right;\n",
       "    }\n",
       "</style>\n",
       "<table border=\"1\" class=\"dataframe\">\n",
       "  <thead>\n",
       "    <tr style=\"text-align: right;\">\n",
       "      <th></th>\n",
       "      <th>id</th>\n",
       "      <th>prediction_labels</th>\n",
       "    </tr>\n",
       "  </thead>\n",
       "  <tbody>\n",
       "  </tbody>\n",
       "</table>\n",
       "</div>"
      ],
      "text/plain": [
       "Empty DataFrame\n",
       "Columns: [id, prediction_labels]\n",
       "Index: []"
      ]
     },
     "execution_count": 28,
     "metadata": {},
     "output_type": "execute_result"
    }
   ],
   "source": [
    "test_NB=pd.DataFrame(columns=('id', 'prediction_labels'))\n",
    "test_NB"
   ]
  },
  {
   "cell_type": "code",
   "execution_count": 29,
   "metadata": {},
   "outputs": [],
   "source": [
    "predict_test_NB = gnb.predict(test_embeddings)\n",
    "\n",
    "test_NB[\"id\"]=test['id']\n",
    "test_NB[\"prediction_labels\"] = label_encoder.inverse_transform(predict_test_NB)"
   ]
  },
  {
   "cell_type": "code",
   "execution_count": 30,
   "metadata": {},
   "outputs": [
    {
     "data": {
      "text/html": [
       "<div>\n",
       "<style scoped>\n",
       "    .dataframe tbody tr th:only-of-type {\n",
       "        vertical-align: middle;\n",
       "    }\n",
       "\n",
       "    .dataframe tbody tr th {\n",
       "        vertical-align: top;\n",
       "    }\n",
       "\n",
       "    .dataframe thead th {\n",
       "        text-align: right;\n",
       "    }\n",
       "</style>\n",
       "<table border=\"1\" class=\"dataframe\">\n",
       "  <thead>\n",
       "    <tr style=\"text-align: right;\">\n",
       "      <th></th>\n",
       "      <th>id</th>\n",
       "      <th>prediction_labels</th>\n",
       "    </tr>\n",
       "  </thead>\n",
       "  <tbody>\n",
       "    <tr>\n",
       "      <th>0</th>\n",
       "      <td>935036-2017-1</td>\n",
       "      <td>Services</td>\n",
       "    </tr>\n",
       "    <tr>\n",
       "      <th>1</th>\n",
       "      <td>1435049-2017-1</td>\n",
       "      <td>Manufacturing</td>\n",
       "    </tr>\n",
       "    <tr>\n",
       "      <th>2</th>\n",
       "      <td>1158449-2017-1</td>\n",
       "      <td>Retail Trade</td>\n",
       "    </tr>\n",
       "    <tr>\n",
       "      <th>3</th>\n",
       "      <td>849706-2017-1</td>\n",
       "      <td>Wholesale Trade</td>\n",
       "    </tr>\n",
       "    <tr>\n",
       "      <th>4</th>\n",
       "      <td>105608-2017-1</td>\n",
       "      <td>Wholesale Trade</td>\n",
       "    </tr>\n",
       "    <tr>\n",
       "      <th>...</th>\n",
       "      <td>...</td>\n",
       "      <td>...</td>\n",
       "    </tr>\n",
       "    <tr>\n",
       "      <th>756</th>\n",
       "      <td>1675634-2017-4</td>\n",
       "      <td>Services</td>\n",
       "    </tr>\n",
       "    <tr>\n",
       "      <th>757</th>\n",
       "      <td>1614556-2017-4</td>\n",
       "      <td>Finance, Insurance, And Real Estate</td>\n",
       "    </tr>\n",
       "    <tr>\n",
       "      <th>758</th>\n",
       "      <td>1557798-2017-4</td>\n",
       "      <td>Finance, Insurance, And Real Estate</td>\n",
       "    </tr>\n",
       "    <tr>\n",
       "      <th>759</th>\n",
       "      <td>1564709-2017-4</td>\n",
       "      <td>Retail Trade</td>\n",
       "    </tr>\n",
       "    <tr>\n",
       "      <th>760</th>\n",
       "      <td>1312073-2017-4</td>\n",
       "      <td>Services</td>\n",
       "    </tr>\n",
       "  </tbody>\n",
       "</table>\n",
       "<p>761 rows × 2 columns</p>\n",
       "</div>"
      ],
      "text/plain": [
       "                 id                    prediction_labels\n",
       "0     935036-2017-1                             Services\n",
       "1    1435049-2017-1                        Manufacturing\n",
       "2    1158449-2017-1                         Retail Trade\n",
       "3     849706-2017-1                      Wholesale Trade\n",
       "4     105608-2017-1                      Wholesale Trade\n",
       "..              ...                                  ...\n",
       "756  1675634-2017-4                             Services\n",
       "757  1614556-2017-4  Finance, Insurance, And Real Estate\n",
       "758  1557798-2017-4  Finance, Insurance, And Real Estate\n",
       "759  1564709-2017-4                         Retail Trade\n",
       "760  1312073-2017-4                             Services\n",
       "\n",
       "[761 rows x 2 columns]"
      ]
     },
     "execution_count": 30,
     "metadata": {},
     "output_type": "execute_result"
    }
   ],
   "source": [
    "test_NB"
   ]
  },
  {
   "cell_type": "code",
   "execution_count": 31,
   "metadata": {},
   "outputs": [],
   "source": [
    "test_NB[[\"id\", \"prediction_labels\"]].to_csv(\"NaiBay_Assignment3_jlin157.csv\", index=False)"
   ]
  },
  {
   "cell_type": "markdown",
   "metadata": {},
   "source": [
    "# Random Forest Classifier"
   ]
  },
  {
   "cell_type": "code",
   "execution_count": 37,
   "metadata": {},
   "outputs": [
    {
     "data": {
      "text/plain": [
       "RandomForestClassifier()"
      ]
     },
     "execution_count": 37,
     "metadata": {},
     "output_type": "execute_result"
    }
   ],
   "source": [
    "from sklearn.ensemble import RandomForestClassifier\n",
    "\n",
    "rfc=RandomForestClassifier()\n",
    "rfc.fit(train_embeddings, train.target)"
   ]
  },
  {
   "cell_type": "code",
   "execution_count": 36,
   "metadata": {},
   "outputs": [
    {
     "data": {
      "text/plain": [
       "{'fit_time': array([2.37031531, 2.39514756, 2.30124712, 2.33394456, 2.33283353]),\n",
       " 'score_time': array([0.01595211, 0.01792765, 0.01695538, 0.01695442, 0.0169549 ]),\n",
       " 'test_score': array([0.77210034, 0.76964383, 0.79733909, 0.7599964 , 0.77988987]),\n",
       " 'train_score': array([1.        , 0.99958956, 0.9987652 , 0.99877213, 0.9987652 ])}"
      ]
     },
     "execution_count": 36,
     "metadata": {},
     "output_type": "execute_result"
    }
   ],
   "source": [
    "#cross_validate(rfc,X=train_embeddings,y=train.target,scoring='f1_weighted',return_train_score=True)"
   ]
  },
  {
   "cell_type": "code",
   "execution_count": 38,
   "metadata": {},
   "outputs": [],
   "source": [
    "predict_train_rfc = rfc.predict(train_embeddings)\n",
    "train[\"predict_labels_rfc\"] = label_encoder.inverse_transform(predict_train_rfc)"
   ]
  },
  {
   "cell_type": "code",
   "execution_count": 39,
   "metadata": {},
   "outputs": [
    {
     "ename": "TypeError",
     "evalue": "'tuple' object is not callable",
     "output_type": "error",
     "traceback": [
      "\u001b[1;31m---------------------------------------------------------------------------\u001b[0m",
      "\u001b[1;31mTypeError\u001b[0m                                 Traceback (most recent call last)",
      "\u001b[1;32m<ipython-input-39-ad2d60912c2f>\u001b[0m in \u001b[0;36m<module>\u001b[1;34m\u001b[0m\n\u001b[1;32m----> 1\u001b[1;33m \u001b[0maccuracy_score\u001b[0m\u001b[1;33m(\u001b[0m\u001b[0mtrain\u001b[0m\u001b[1;33m.\u001b[0m\u001b[0mlabel\u001b[0m\u001b[1;33m,\u001b[0m\u001b[0mtrain\u001b[0m\u001b[1;33m.\u001b[0m\u001b[0mpredict_labels_rfc\u001b[0m\u001b[1;33m)\u001b[0m\u001b[1;33m\u001b[0m\u001b[1;33m\u001b[0m\u001b[0m\n\u001b[0m",
      "\u001b[1;31mTypeError\u001b[0m: 'tuple' object is not callable"
     ]
    }
   ],
   "source": [
    "accuracy_score(train.label,train.predict_labels_rfc)"
   ]
  },
  {
   "cell_type": "markdown",
   "metadata": {},
   "source": [
    "Predict the test data"
   ]
  },
  {
   "cell_type": "code",
   "execution_count": 40,
   "metadata": {},
   "outputs": [
    {
     "data": {
      "text/html": [
       "<div>\n",
       "<style scoped>\n",
       "    .dataframe tbody tr th:only-of-type {\n",
       "        vertical-align: middle;\n",
       "    }\n",
       "\n",
       "    .dataframe tbody tr th {\n",
       "        vertical-align: top;\n",
       "    }\n",
       "\n",
       "    .dataframe thead th {\n",
       "        text-align: right;\n",
       "    }\n",
       "</style>\n",
       "<table border=\"1\" class=\"dataframe\">\n",
       "  <thead>\n",
       "    <tr style=\"text-align: right;\">\n",
       "      <th></th>\n",
       "      <th>id</th>\n",
       "      <th>prediction_labels</th>\n",
       "    </tr>\n",
       "  </thead>\n",
       "  <tbody>\n",
       "  </tbody>\n",
       "</table>\n",
       "</div>"
      ],
      "text/plain": [
       "Empty DataFrame\n",
       "Columns: [id, prediction_labels]\n",
       "Index: []"
      ]
     },
     "execution_count": 40,
     "metadata": {},
     "output_type": "execute_result"
    }
   ],
   "source": [
    "test_rfc=pd.DataFrame(columns=('id', 'prediction_labels'))\n",
    "test_rfc"
   ]
  },
  {
   "cell_type": "code",
   "execution_count": 41,
   "metadata": {},
   "outputs": [],
   "source": [
    "predict_test_rfc = rfc.predict(test_embeddings)\n",
    "test_rfc[\"id\"]=test['id']\n",
    "test_rfc[\"prediction_labels\"] = label_encoder.inverse_transform(predict_test_rfc)"
   ]
  },
  {
   "cell_type": "code",
   "execution_count": 42,
   "metadata": {
    "scrolled": false
   },
   "outputs": [
    {
     "data": {
      "text/html": [
       "<div>\n",
       "<style scoped>\n",
       "    .dataframe tbody tr th:only-of-type {\n",
       "        vertical-align: middle;\n",
       "    }\n",
       "\n",
       "    .dataframe tbody tr th {\n",
       "        vertical-align: top;\n",
       "    }\n",
       "\n",
       "    .dataframe thead th {\n",
       "        text-align: right;\n",
       "    }\n",
       "</style>\n",
       "<table border=\"1\" class=\"dataframe\">\n",
       "  <thead>\n",
       "    <tr style=\"text-align: right;\">\n",
       "      <th></th>\n",
       "      <th>id</th>\n",
       "      <th>prediction_labels</th>\n",
       "    </tr>\n",
       "  </thead>\n",
       "  <tbody>\n",
       "    <tr>\n",
       "      <th>0</th>\n",
       "      <td>935036-2017-1</td>\n",
       "      <td>Services</td>\n",
       "    </tr>\n",
       "    <tr>\n",
       "      <th>1</th>\n",
       "      <td>1435049-2017-1</td>\n",
       "      <td>Manufacturing</td>\n",
       "    </tr>\n",
       "    <tr>\n",
       "      <th>2</th>\n",
       "      <td>1158449-2017-1</td>\n",
       "      <td>Retail Trade</td>\n",
       "    </tr>\n",
       "    <tr>\n",
       "      <th>3</th>\n",
       "      <td>849706-2017-1</td>\n",
       "      <td>Manufacturing</td>\n",
       "    </tr>\n",
       "    <tr>\n",
       "      <th>4</th>\n",
       "      <td>105608-2017-1</td>\n",
       "      <td>Manufacturing</td>\n",
       "    </tr>\n",
       "    <tr>\n",
       "      <th>...</th>\n",
       "      <td>...</td>\n",
       "      <td>...</td>\n",
       "    </tr>\n",
       "    <tr>\n",
       "      <th>756</th>\n",
       "      <td>1675634-2017-4</td>\n",
       "      <td>Services</td>\n",
       "    </tr>\n",
       "    <tr>\n",
       "      <th>757</th>\n",
       "      <td>1614556-2017-4</td>\n",
       "      <td>Services</td>\n",
       "    </tr>\n",
       "    <tr>\n",
       "      <th>758</th>\n",
       "      <td>1557798-2017-4</td>\n",
       "      <td>Services</td>\n",
       "    </tr>\n",
       "    <tr>\n",
       "      <th>759</th>\n",
       "      <td>1564709-2017-4</td>\n",
       "      <td>Manufacturing</td>\n",
       "    </tr>\n",
       "    <tr>\n",
       "      <th>760</th>\n",
       "      <td>1312073-2017-4</td>\n",
       "      <td>Services</td>\n",
       "    </tr>\n",
       "  </tbody>\n",
       "</table>\n",
       "<p>761 rows × 2 columns</p>\n",
       "</div>"
      ],
      "text/plain": [
       "                 id prediction_labels\n",
       "0     935036-2017-1          Services\n",
       "1    1435049-2017-1     Manufacturing\n",
       "2    1158449-2017-1      Retail Trade\n",
       "3     849706-2017-1     Manufacturing\n",
       "4     105608-2017-1     Manufacturing\n",
       "..              ...               ...\n",
       "756  1675634-2017-4          Services\n",
       "757  1614556-2017-4          Services\n",
       "758  1557798-2017-4          Services\n",
       "759  1564709-2017-4     Manufacturing\n",
       "760  1312073-2017-4          Services\n",
       "\n",
       "[761 rows x 2 columns]"
      ]
     },
     "execution_count": 42,
     "metadata": {},
     "output_type": "execute_result"
    }
   ],
   "source": [
    "test_rfc"
   ]
  },
  {
   "cell_type": "code",
   "execution_count": 43,
   "metadata": {},
   "outputs": [],
   "source": [
    "test_rfc[[\"id\", \"prediction_labels\"]].to_csv(\"RanFor_Assignment3_jlin157.csv\", index=False)"
   ]
  },
  {
   "cell_type": "code",
   "execution_count": null,
   "metadata": {},
   "outputs": [],
   "source": []
  }
 ],
 "metadata": {
  "kernelspec": {
   "display_name": "Python 3",
   "language": "python",
   "name": "python3"
  },
  "language_info": {
   "codemirror_mode": {
    "name": "ipython",
    "version": 3
   },
   "file_extension": ".py",
   "mimetype": "text/x-python",
   "name": "python",
   "nbconvert_exporter": "python",
   "pygments_lexer": "ipython3",
   "version": "3.8.3"
  }
 },
 "nbformat": 4,
 "nbformat_minor": 4
}
